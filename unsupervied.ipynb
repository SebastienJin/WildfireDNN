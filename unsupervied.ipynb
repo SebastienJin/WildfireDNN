{
 "cells": [
  {
   "metadata": {
    "ExecuteTime": {
     "end_time": "2025-01-14T10:05:24.897529Z",
     "start_time": "2025-01-14T10:05:21.958044Z"
    }
   },
   "cell_type": "code",
   "source": [
    "import logging\n",
    "\n",
    "import torch\n",
    "import numpy as np\n",
    "import seaborn as sns\n",
    "from tqdm.auto import tqdm\n",
    "import matplotlib.pyplot as plt\n",
    "from sklearn.cluster import KMeans\n",
    "from sklearn.metrics import confusion_matrix\n",
    "from sklearn.metrics import accuracy_score, classification_report\n",
    "from torch.utils.data import DataLoader\n",
    "from torchvision.models import (\n",
    "    # ======================= ResNet ======================= #\n",
    "    resnet18, ResNet18_Weights,\n",
    "    resnet34, ResNet34_Weights,\n",
    "    resnet50, ResNet50_Weights,\n",
    "    resnet101, ResNet101_Weights,\n",
    "    resnet152, ResNet152_Weights,\n",
    "    # ===================== Mobile Net ===================== #\n",
    "    mobilenet_v3_small, MobileNet_V3_Small_Weights,\n",
    "    mobilenet_v3_large, MobileNet_V3_Large_Weights,\n",
    "    # ==================== EfficientNet ==================== #\n",
    "    efficientnet_b0, EfficientNet_B0_Weights,\n",
    "    efficientnet_b1, EfficientNet_B1_Weights,\n",
    "    efficientnet_v2_s, EfficientNet_V2_S_Weights,\n",
    "    efficientnet_v2_m, EfficientNet_V2_M_Weights,\n",
    "    efficientnet_v2_l, EfficientNet_V2_L_Weights,\n",
    "    # ================= Vision Transformer ================= #\n",
    "    vit_b_16, ViT_B_16_Weights,\n",
    "    vit_b_32, ViT_B_32_Weights,\n",
    "    vit_l_16, ViT_L_16_Weights,\n",
    "    vit_l_32, ViT_L_32_Weights,\n",
    "    vit_h_14, ViT_H_14_Weights,\n",
    ")\n",
    "\n",
    "from data_loader import get_wildfire_datasets"
   ],
   "id": "4fee379d29fd072f",
   "outputs": [
    {
     "name": "stdout",
     "output_type": "stream",
     "text": [
      "Warning: Looks like you're using an outdated `kagglehub` version, please consider updating (latest version: 0.3.6)\n"
     ]
    },
    {
     "name": "stderr",
     "output_type": "stream",
     "text": [
      "2025-01-14 11:05:24,896 [INFO] Data saved to: /home/zliu/.cache/kagglehub/datasets/abdelghaniaaba/wildfire-prediction-dataset/versions/1\n"
     ]
    }
   ],
   "execution_count": 1
  },
  {
   "metadata": {
    "ExecuteTime": {
     "end_time": "2025-01-14T10:06:05.839529Z",
     "start_time": "2025-01-14T10:05:58.269340Z"
    }
   },
   "cell_type": "code",
   "source": [
    "BATCHSIZE = 64\n",
    "\n",
    "# logging setup\n",
    "logging.basicConfig(level=logging.INFO, format=\"%(asctime)s [%(levelname)s] %(message)s\")\n",
    "\n",
    "# Define models for feature extraction\n",
    "MODELS = {\n",
    "    # name: [model, param_size]\n",
    "    # =============================================================== ResNet =============================================================== #\n",
    "    # ResNet18 89.17%\n",
    "    \"resnet18\": [resnet18(weights=ResNet18_Weights.DEFAULT), sum(p.numel() for p in resnet18(weights=ResNet18_Weights.DEFAULT).parameters())],\n",
    "    # ResNet34\n",
    "    \"resnet34\": [resnet34(weights=ResNet34_Weights.DEFAULT), sum(p.numel() for p in resnet34(weights=ResNet34_Weights.DEFAULT).parameters())],\n",
    "    # ResNet50 88.83%\n",
    "    \"resnet50\": [resnet50(weights=ResNet50_Weights.DEFAULT), sum(p.numel() for p in resnet50(weights=ResNet50_Weights.DEFAULT).parameters())],\n",
    "    # ResNet101 89.19%\n",
    "    \"resnet101\": [resnet101(weights=ResNet101_Weights.DEFAULT), sum(p.numel() for p in resnet101(weights=ResNet101_Weights.DEFAULT).parameters())],\n",
    "    # ResNet152 89.56%\n",
    "    \"resnet152\": [resnet152(weights=ResNet152_Weights.DEFAULT), sum(p.numel() for p in resnet152(weights=ResNet152_Weights.DEFAULT).parameters())],\n",
    "    # # ============================================================= Mobile Net ============================================================= #\n",
    "    # # MobileNet V3 Small 81.02%\n",
    "    # \"mobilenetv3small\": [mobilenet_v3_small(weights=MobileNet_V3_Small_Weights.DEFAULT), sum(p.numel() for p in mobilenet_v3_small(weights=MobileNet_V3_Small_Weights.DEFAULT).parameters())],\n",
    "    # # MobileNet V3 Large 89.90%\n",
    "    # \"mobilenetv3large\": [mobilenet_v3_large(weights=MobileNet_V3_Large_Weights.DEFAULT), sum(p.numel() for p in mobilenet_v3_large(weights=MobileNet_V3_Large_Weights.DEFAULT).parameters())],\n",
    "    # # ============================================================ EfficientNet ============================================================ #\n",
    "    # # EfficientNet b0 90.76%\n",
    "    # \"efficientnet_b0\": [efficientnet_b0(weights=EfficientNet_B0_Weights.DEFAULT), sum(p.numel() for p in efficientnet_b0(weights=EfficientNet_B0_Weights.DEFAULT).parameters())],\n",
    "    # # EfficientNet b1 88.62%\n",
    "    # \"efficientnet_b1\": [efficientnet_b1(weights=EfficientNet_B1_Weights.DEFAULT), sum(p.numel() for p in efficientnet_b1(weights=EfficientNet_B1_Weights.DEFAULT).parameters())],\n",
    "    # # EfficientNet v2 Small 85.71%\n",
    "    # \"efficientnet_v2_s\": [efficientnet_v2_s(weights=EfficientNet_V2_S_Weights.DEFAULT), sum(p.numel() for p in efficientnet_v2_s(weights=EfficientNet_V2_S_Weights.DEFAULT).parameters())],\n",
    "    # # EfficientNet v2 Medium 80.71%\n",
    "    # \"efficientnet_v2_m\": [efficientnet_v2_m(weights=EfficientNet_V2_M_Weights.DEFAULT), sum(p.numel() for p in efficientnet_v2_m(weights=EfficientNet_V2_M_Weights.DEFAULT).parameters())],\n",
    "    # # EfficientNet v2 Large 84.63%\n",
    "    # \"efficientnet_v2_l\": [efficientnet_v2_l(weights=EfficientNet_V2_L_Weights.DEFAULT), sum(p.numel() for p in efficientnet_v2_l(weights=EfficientNet_V2_L_Weights.DEFAULT).parameters())],\n",
    "    # # ========================================================= Vision Transformer ========================================================= #\n",
    "    # # ViT B-16 87%\n",
    "    # \"vit_b_16\": [vit_b_16(weights=ViT_B_16_Weights.DEFAULT), sum(p.numel() for p in vit_b_16(weights=ViT_B_16_Weights.DEFAULT).parameters())],\n",
    "    # # ViT B-32 86%\n",
    "    # \"vit_b_32\": [vit_b_32(weights=ViT_B_32_Weights.DEFAULT), sum(p.numel() for p in vit_b_32(weights=ViT_B_32_Weights.DEFAULT).parameters())],\n",
    "}\n",
    "\n",
    "# Clear cuda mem and cache\n",
    "torch.cuda.empty_cache()\n",
    "\n",
    "# Check for GPU availability\n",
    "device = torch.device(\"cuda\" if torch.cuda.is_available() else \"cpu\")\n",
    "device"
   ],
   "id": "c9234667c68f5882",
   "outputs": [
    {
     "name": "stderr",
     "output_type": "stream",
     "text": [
      "Downloading: \"https://download.pytorch.org/models/resnet34-b627a593.pth\" to /home/zliu/.cache/torch/hub/checkpoints/resnet34-b627a593.pth\n",
      "100%|██████████| 83.3M/83.3M [00:03<00:00, 27.8MB/s]\n"
     ]
    },
    {
     "data": {
      "text/plain": [
       "device(type='cpu')"
      ]
     },
     "execution_count": 4,
     "metadata": {},
     "output_type": "execute_result"
    }
   ],
   "execution_count": 4
  },
  {
   "metadata": {
    "ExecuteTime": {
     "end_time": "2025-01-13T16:58:11.863221Z",
     "start_time": "2025-01-13T16:58:11.859610Z"
    }
   },
   "cell_type": "code",
   "source": [
    "# Extract features function\n",
    "def extract_features(model, dataloader, device):\n",
    "    model.eval()\n",
    "    features = []\n",
    "    with torch.no_grad():\n",
    "        for batch in tqdm(dataloader, desc=\"Extracting features\"):\n",
    "            images, _ = batch\n",
    "            images = images.to(device)\n",
    "            # with torch.autocast(\"cuda\", dtype=torch.float16, enabled=True, cache_enabled=True):\n",
    "            #     feats = model(images).cpu()  # Move features to CPU immediately\n",
    "            feats = model(images).cpu()\n",
    "            features.append(feats)\n",
    "    return torch.cat(features)\n",
    "# Evaluation function\n",
    "def evaluate_model(kmeans, model, loader, device, true_labels):\n",
    "    features = extract_features(model, loader, device)\n",
    "    predicted_labels = kmeans.predict(features.cpu())\n",
    "\n",
    "    # Map cluster labels to true labels\n",
    "    cluster_to_class = {}\n",
    "    for cluster in range(2):\n",
    "        cluster_indices = predicted_labels == cluster\n",
    "        majority_class = true_labels[cluster_indices].mean().round()\n",
    "        cluster_to_class[cluster] = majority_class\n",
    "\n",
    "    mapped_predictions = np.array([cluster_to_class[label] for label in predicted_labels])\n",
    "\n",
    "    accuracy = accuracy_score(true_labels, mapped_predictions)\n",
    "    report = classification_report(true_labels, mapped_predictions, target_names=[\"No Wildfire\", \"Wildfire\"])\n",
    "    cm = confusion_matrix(true_labels, mapped_predictions)\n",
    "\n",
    "    return accuracy, report, cm"
   ],
   "id": "308e0f638e764c73",
   "outputs": [],
   "execution_count": 46
  },
  {
   "metadata": {
    "ExecuteTime": {
     "end_time": "2025-01-13T16:23:40.955794Z",
     "start_time": "2025-01-13T16:23:29.760353Z"
    }
   },
   "cell_type": "code",
   "outputs": [
    {
     "name": "stderr",
     "output_type": "stream",
     "text": [
      "2025-01-13 17:23:29,800 [INFO] Train: 30250 images, 30250 labels\n",
      "2025-01-13 17:23:29,800 [INFO] Test: 6300 images, 6300 labels\n",
      "2025-01-13 17:23:29,801 [INFO] Valid: 6300 images, 6300 labels\n"
     ]
    },
    {
     "data": {
      "text/plain": [
       "Extracting test labels:   0%|          | 0/6300 [00:00<?, ?it/s]"
      ],
      "application/vnd.jupyter.widget-view+json": {
       "version_major": 2,
       "version_minor": 0,
       "model_id": "22135ef2ff6c4d6d8f0273b0824bd7b8"
      }
     },
     "metadata": {},
     "output_type": "display_data"
    },
    {
     "name": "stderr",
     "output_type": "stream",
     "text": [
      "Premature end of JPEG file\n"
     ]
    }
   ],
   "execution_count": 20,
   "source": [
    "# Load datasets\n",
    "train_ds, test_ds, valid_ds = get_wildfire_datasets()\n",
    "train_loader = DataLoader(train_ds, batch_size=BATCHSIZE, shuffle=True)\n",
    "test_loader = DataLoader(test_ds, batch_size=BATCHSIZE, shuffle=False)\n",
    "test_labels = np.array([label for _, label in tqdm(test_ds, desc=\"Extracting test labels\")])"
   ],
   "id": "dfa81d6d1e22b50a"
  },
  {
   "metadata": {
    "ExecuteTime": {
     "end_time": "2025-01-13T16:58:16.086300Z",
     "start_time": "2025-01-13T16:58:16.081854Z"
    }
   },
   "cell_type": "code",
   "source": [
    "# estimate the cuda memory usage by batch size and model sizes and image size\n",
    "for model_name, model_ls in MODELS.items():\n",
    "    model = model_ls[0]\n",
    "    cuda_available_memory = torch.cuda.get_device_properties(0).total_memory - torch.cuda.memory_reserved(0)\n",
    "    estimated_memory = sum(p.numel() for p in model.parameters()) * 4 / 1024 ** 2  # in MB\n",
    "    logging.info(f\"Estimated model memory: {estimated_memory:.2f} MB\")\n",
    "    if estimated_memory > cuda_available_memory:\n",
    "        raise MemoryError(\"Not enough GPU memory for this model.\")"
   ],
   "id": "d4bca37ca61ef0bc",
   "outputs": [
    {
     "name": "stderr",
     "output_type": "stream",
     "text": [
      "2025-01-13 17:58:16,084 [INFO] Estimated model memory: 20.17 MB\n"
     ]
    }
   ],
   "execution_count": 47
  },
  {
   "metadata": {
    "ExecuteTime": {
     "end_time": "2025-01-13T16:59:49.827631Z",
     "start_time": "2025-01-13T16:58:17.515373Z"
    }
   },
   "cell_type": "code",
   "source": [
    "# models setup for feature extraction with tqdm\n",
    "# Prepare models and extract features\n",
    "model_results = {}\n",
    "for model_name, model_ls in tqdm(MODELS.items(), desc=\"Processing models\"):\n",
    "    model = model_ls[0]\n",
    "    logging.info(f\"Setting up {model_name}...\")\n",
    "    if model_name == \"resnet18\":\n",
    "        model.fc = torch.nn.Identity()\n",
    "    elif model_name in [\"mobilenetv3\", \"efficientnet\"]:\n",
    "        model.classifier = torch.nn.Identity()\n",
    "    elif model_name == \"vit_b_16\":\n",
    "        model.heads.head = torch.nn.Identity()\n",
    "\n",
    "    model = model.to(device)\n",
    "\n",
    "    # Extract features\n",
    "    logging.info(f\"Extracting features with {model_name}...\")\n",
    "    features = extract_features(model, train_loader, device)\n",
    "    kmeans = KMeans(n_clusters=2, random_state=0).fit(features)\n",
    "    model_results[model_name] = {\n",
    "        \"model\": model,\n",
    "        \"kmeans\": kmeans,\n",
    "        \"train_features\": features,\n",
    "    }\n",
    "\n",
    "    # Clear cuda memory\n",
    "    model = model.to(torch.device(\"cpu\"))\n",
    "    torch.cuda.empty_cache()"
   ],
   "id": "706043f28eb23a54",
   "outputs": [
    {
     "data": {
      "text/plain": [
       "Processing models:   0%|          | 0/1 [00:00<?, ?it/s]"
      ],
      "application/vnd.jupyter.widget-view+json": {
       "version_major": 2,
       "version_minor": 0,
       "model_id": "2cc2777412b740b4b1fcb6be5eecf18c"
      }
     },
     "metadata": {},
     "output_type": "display_data"
    },
    {
     "name": "stderr",
     "output_type": "stream",
     "text": [
      "2025-01-13 17:58:17,523 [INFO] Setting up efficientnet_b0...\n",
      "2025-01-13 17:58:17,549 [INFO] Extracting features with efficientnet_b0...\n"
     ]
    },
    {
     "data": {
      "text/plain": [
       "Extracting features:   0%|          | 0/473 [00:00<?, ?it/s]"
      ],
      "application/vnd.jupyter.widget-view+json": {
       "version_major": 2,
       "version_minor": 0,
       "model_id": "54b3bc9f18c4486a9432da22d43ece4d"
      }
     },
     "metadata": {},
     "output_type": "display_data"
    },
    {
     "name": "stderr",
     "output_type": "stream",
     "text": [
      "Premature end of JPEG file\n"
     ]
    }
   ],
   "execution_count": 48
  },
  {
   "metadata": {
    "ExecuteTime": {
     "end_time": "2025-01-13T17:00:08.940558Z",
     "start_time": "2025-01-13T16:59:49.849029Z"
    }
   },
   "cell_type": "code",
   "source": [
    "# Evaluate all models\n",
    "for model_name, data in model_results.items():\n",
    "    logging.info(f\"Evaluating {model_name}...\")\n",
    "    kmeans = data[\"kmeans\"]\n",
    "    model = data[\"model\"]\n",
    "    model = model.to(device)\n",
    "\n",
    "    accuracy, report, cm = evaluate_model(kmeans, model, test_loader, device, test_labels)\n",
    "\n",
    "    print(f\"{model_name} {accuracy * 100:.2f}%\")\n",
    "    # resnet18(weights=ResNet18_Weights.DEFAULT)\n",
    "    print(f\"{MODELS[model_name][0]}\")\n",
    "    print(f\"{model_name} classification report:\\n{report}\")\n",
    "\n",
    "    sns.heatmap(cm, annot=True, fmt='d', cmap='Blues')\n",
    "    plt.title(f\"{model_name} Confusion Matrix\")\n",
    "    plt.xlabel('Predicted')\n",
    "    plt.ylabel('True')\n",
    "    plt.tight_layout()\n",
    "    plt.show()"
   ],
   "id": "a33d32756cd4c7ba",
   "outputs": [
    {
     "name": "stderr",
     "output_type": "stream",
     "text": [
      "2025-01-13 17:59:49,852 [INFO] Evaluating efficientnet_b0...\n"
     ]
    },
    {
     "data": {
      "text/plain": [
       "Extracting features:   0%|          | 0/99 [00:00<?, ?it/s]"
      ],
      "application/vnd.jupyter.widget-view+json": {
       "version_major": 2,
       "version_minor": 0,
       "model_id": "089d4b36ec2b451c853bf7dbed6fd968"
      }
     },
     "metadata": {},
     "output_type": "display_data"
    },
    {
     "name": "stderr",
     "output_type": "stream",
     "text": [
      "Premature end of JPEG file\n",
      "2025-01-13 18:00:08,785 [INFO] efficientnet_b0 accuracy: 90.76%\n",
      "2025-01-13 18:00:08,785 [INFO] efficientnet_b0 classification report:\n",
      "              precision    recall  f1-score   support\n",
      "\n",
      " No Wildfire       0.89      0.91      0.90      2820\n",
      "    Wildfire       0.92      0.91      0.92      3480\n",
      "\n",
      "    accuracy                           0.91      6300\n",
      "   macro avg       0.91      0.91      0.91      6300\n",
      "weighted avg       0.91      0.91      0.91      6300\n",
      "\n"
     ]
    },
    {
     "data": {
      "text/plain": [
       "<Figure size 640x480 with 2 Axes>"
      ],
      "image/png": "[encoded data removed]"
     },
     "metadata": {},
     "output_type": "display_data"
    }
   ],
   "execution_count": 49
  },
  {
   "metadata": {},
   "cell_type": "markdown",
   "source": [
    "## ResNet\n",
    "```txt\n",
    "resnet18(weights=ResNet18_Weights.DEFAULT)\n",
    "              precision    recall  f1-score   support\n",
    " No Wildfire       0.89      0.86      0.88      2820\n",
    "    Wildfire       0.89      0.92      0.90      3480\n",
    "\n",
    "    accuracy                           0.89      6300\n",
    "   macro avg       0.89      0.89      0.89      6300\n",
    "weighted avg       0.89      0.89      0.89      6300\n",
    "```\n",
    "```txt\n",
    "resnet50(weights=ResNet50_Weights.DEFAULT)\n",
    "              precision    recall  f1-score   support\n",
    " No Wildfire       0.86      0.90      0.88      2820\n",
    "    Wildfire       0.92      0.88      0.90      3480\n",
    "\n",
    "    accuracy                           0.89      6300\n",
    "   macro avg       0.89      0.89      0.89      6300\n",
    "weighted avg       0.89      0.89      0.89      6300\n",
    "```\n",
    "```txt\n",
    "resnet101(weights=ResNet101_Weights.DEFAULT)\n",
    "              precision    recall  f1-score   support\n",
    " No Wildfire       0.87      0.89      0.88      2820\n",
    "    Wildfire       0.91      0.89      0.90      3480\n",
    "\n",
    "    accuracy                           0.89      6300\n",
    "   macro avg       0.89      0.89      0.89      6300\n",
    "weighted avg       0.89      0.89      0.89      6300\n",
    "```\n",
    "```txt\n",
    "resnet152(weights=ResNet152_Weights.DEFAULT)\n",
    "              precision    recall  f1-score   support\n",
    " No Wildfire       0.87      0.91      0.89      2820\n",
    "    Wildfire       0.92      0.89      0.90      3480\n",
    "\n",
    "    accuracy                           0.90      6300\n",
    "   macro avg       0.89      0.90      0.89      6300\n",
    "weighted avg       0.90      0.90      0.90      6300\n",
    "```\n",
    "\n",
    "## MobileNetv3\n",
    "```txt\n",
    "mobilenet_v3_small(weights=MobileNet_V3_Small_Weights.DEFAULT)\n",
    "              precision    recall  f1-score   support\n",
    " No Wildfire       0.88      0.66      0.76      2820\n",
    "    Wildfire       0.77      0.93      0.84      3480\n",
    "\n",
    "    accuracy                           0.81      6300\n",
    "   macro avg       0.83      0.80      0.80      6300\n",
    "weighted avg       0.82      0.81      0.81      6300\n",
    "```\n",
    "```txt\n",
    "mobilenet_v3_large(weights=MobileNet_V3_Large_Weights.DEFAULT)\n",
    "              precision    recall  f1-score   support\n",
    " No Wildfire       0.88      0.90      0.89      2820\n",
    "    Wildfire       0.92      0.90      0.91      3480\n",
    "\n",
    "    accuracy                           0.90      6300\n",
    "   macro avg       0.90      0.90      0.90      6300\n",
    "weighted avg       0.90      0.90      0.90      6300\n",
    "```\n",
    "## EfficientNet\n",
    "```txt\n",
    "efficientnet_b0(weights=EfficientNet_B0_Weights.DEFAULT)\n",
    "              precision    recall  f1-score   support\n",
    " No Wildfire       0.89      0.91      0.90      2820\n",
    "    Wildfire       0.92      0.91      0.92      3480\n",
    "\n",
    "    accuracy                           0.91      6300\n",
    "   macro avg       0.91      0.91      0.91      6300\n",
    "weighted avg       0.91      0.91      0.91      6300\n",
    "```\n",
    "```txt\n",
    "efficientnet_b1(weights=EfficientNet_B1_Weights.DEFAULT)\n",
    "              precision    recall  f1-score   support\n",
    " No Wildfire       0.86      0.89      0.87      2820\n",
    "    Wildfire       0.91      0.89      0.90      3480\n",
    "\n",
    "    accuracy                           0.89      6300\n",
    "   macro avg       0.88      0.89      0.89      6300\n",
    "weighted avg       0.89      0.89      0.89      6300\n",
    "```\n",
    "```txt\n",
    "efficientnet_v2_s(weights=EfficientNet_V2_S_Weights.DEFAULT)\n",
    "              precision    recall  f1-score   support\n",
    " No Wildfire       0.80      0.91      0.85      2820\n",
    "    Wildfire       0.92      0.81      0.86      3480\n",
    "\n",
    "    accuracy                           0.86      6300\n",
    "   macro avg       0.86      0.86      0.86      6300\n",
    "weighted avg       0.86      0.86      0.86      6300\n",
    "```\n",
    "```txt\n",
    "efficientnet_v2_m(weights=EfficientNet_V2_M_Weights.DEFAULT)\n",
    "              precision    recall  f1-score   support\n",
    " No Wildfire       0.72      0.93      0.81      2820\n",
    "    Wildfire       0.92      0.71      0.80      3480\n",
    "\n",
    "    accuracy                           0.81      6300\n",
    "   macro avg       0.82      0.82      0.81      6300\n",
    "weighted avg       0.83      0.81      0.81      6300\n",
    "```\n",
    "```txt\n",
    "efficientnet_v2_l(weights=EfficientNet_V2_L_Weights.DEFAULT)\n",
    "              precision    recall  f1-score   support\n",
    " No Wildfire       0.81      0.86      0.83      2820\n",
    "    Wildfire       0.88      0.84      0.86      3480\n",
    "\n",
    "    accuracy                           0.85      6300\n",
    "   macro avg       0.84      0.85      0.85      6300\n",
    "weighted avg       0.85      0.85      0.85      6300\n",
    "```\n",
    "## ViT\n",
    "```txt\n",
    "vit_b_16(weights=ViT_B_16_Weights.DEFAULT)\n",
    "              precision    recall  f1-score   support\n",
    " No Wildfire       0.92      0.82      0.87      2820\n",
    "    Wildfire       0.87      0.94      0.90      3480\n",
    "\n",
    "    accuracy                           0.89      6300\n",
    "   macro avg       0.89      0.88      0.89      6300\n",
    "weighted avg       0.89      0.89      0.89      6300\n",
    "```\n",
    "```txt\n",
    "vit_b_32(weights=ViT_B_32_Weights.DEFAULT)\n",
    "              precision    recall  f1-score   support\n",
    " No Wildfire       0.81      0.91      0.85      2820\n",
    "    Wildfire       0.92      0.82      0.87      3480\n",
    "\n",
    "    accuracy                           0.86      6300\n",
    "   macro avg       0.86      0.87      0.86      6300\n",
    "weighted avg       0.87      0.86      0.86      6300\n",
    "```"
   ],
   "id": "b66178b61953cd3a"
  },
  {
   "metadata": {},
   "cell_type": "code",
   "outputs": [],
   "execution_count": null,
   "source": "",
   "id": "e58ba32f809c2feb"
  }
 ],
 "metadata": {
  "kernelspec": {
   "display_name": "Python 3",
   "language": "python",
   "name": "python3"
  },
  "language_info": {
   "codemirror_mode": {
    "name": "ipython",
    "version": 2
   },
   "file_extension": ".py",
   "mimetype": "text/x-python",
   "name": "python",
   "nbconvert_exporter": "python",
   "pygments_lexer": "ipython2",
   "version": "2.7.6"
  }
 },
 "nbformat": 4,
 "nbformat_minor": 5
}
